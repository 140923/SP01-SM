{
 "cells": [
  {
   "cell_type": "code",
   "execution_count": 1,
   "id": "a7eeec73",
   "metadata": {},
   "outputs": [],
   "source": [
    "import pandas as pd\n",
    "import matplotlib.pyplot as plt\n",
    "import seaborn as sns\n",
    "from sklearn.model_selection import train_test_split\n",
    "from sklearn.linear_model import LinearRegression\n",
    "from sklearn.metrics import mean_squared_error"
   ]
  },
  {
   "cell_type": "code",
   "execution_count": 5,
   "id": "c1488d09",
   "metadata": {},
   "outputs": [],
   "source": [
    "# Step 1: Load the Data\n",
    "# df = pd.read_csv('C:\\Users\\surya\\OneDrive\\Desktop\\SlashMark\\BP01_SM\\weather.csv')\n",
    "df = pd.read_csv(r'C:\\Users\\surya\\Downloads\\BP01_SM\\weather.csv')\n"
   ]
  },
  {
   "cell_type": "code",
   "execution_count": null,
   "id": "e4f1815c",
   "metadata": {},
   "outputs": [],
   "source": [
    "df"
   ]
  },
  {
   "cell_type": "code",
   "execution_count": null,
   "id": "3fcf2d73",
   "metadata": {
    "scrolled": false
   },
   "outputs": [],
   "source": [
    "\n",
    "\n",
    "# Replace 'NW' with NaN\n",
    "df = df.replace('NW', pd.NA)\n",
    "\n",
    "# Convert all values to numeric, converting non-numeric values to NaN\n",
    "df = df.apply(pd.to_numeric, errors='coerce')\n",
    "\n",
    "# Now, calculate the correlation matrix and plot the heatmap\n",
    "m = df.corr()\n",
    "print(m)\n",
    "\n",
    "plt.figure(figsize=(10, 8))\n",
    "sns.heatmap(m, annot=True, cmap='coolwarm', fmt=\".2f\", linewidths=.5)\n",
    "plt.title('Correlation')\n",
    "plt.show()\n"
   ]
  },
  {
   "cell_type": "code",
   "execution_count": null,
   "id": "d1a27301",
   "metadata": {},
   "outputs": [],
   "source": [
    "m['Rainfall']"
   ]
  },
  {
   "cell_type": "code",
   "execution_count": null,
   "id": "9be29553",
   "metadata": {},
   "outputs": [],
   "source": [
    "descriptive_stats = df.describe()\n",
    "print(descriptive_stats)"
   ]
  },
  {
   "cell_type": "code",
   "execution_count": null,
   "id": "27fb57fa",
   "metadata": {},
   "outputs": [],
   "source": [
    "import matplotlib.pyplot as plt\n",
    "import seaborn as sns\n",
    "\n",
    "sns.histplot(df['Rainfall'], kde=True)\n",
    "plt.title('Distribution of Rainfall')\n",
    "plt.show()\n"
   ]
  },
  {
   "cell_type": "code",
   "execution_count": null,
   "id": "ed9ba272",
   "metadata": {},
   "outputs": [],
   "source": [
    "import seaborn as sns\n",
    "import matplotlib.pyplot as plt\n",
    "\n",
    "# Select the columns of interest\n",
    "selected_columns = ['Rainfall', 'WindSpeed9am', 'Humidity3pm', 'Pressure9am']\n",
    "\n",
    "# Create a subset DataFrame\n",
    "subset_df = df[selected_columns]\n",
    "\n",
    "# Calculate the correlation matrix\n",
    "corr_matrix = subset_df.corr()\n",
    "\n",
    "# Plot the heatmap\n",
    "sns.heatmap(corr_matrix, annot=True, cmap='coolwarm', fmt=\".2f\")\n",
    "plt.title('Correlation Heatmap')\n",
    "plt.show()\n",
    "\n"
   ]
  },
  {
   "cell_type": "code",
   "execution_count": null,
   "id": "109a8fa3",
   "metadata": {},
   "outputs": [],
   "source": [
    "import matplotlib.pyplot as plt\n",
    "\n",
    "# Select the columns of interest\n",
    "selected_columns = ['Rainfall', 'WindSpeed9am', 'Humidity3pm', 'Pressure9am']\n",
    "\n",
    "# Create scatter plots\n",
    "for col in selected_columns:\n",
    "    plt.scatter(df[col], df['Rainfall'], alpha=0.5, label=col)\n",
    "\n",
    "plt.xlabel('Variable Values')\n",
    "plt.ylabel('Rainfall')\n",
    "plt.legend()\n",
    "plt.show()\n"
   ]
  },
  {
   "cell_type": "code",
   "execution_count": null,
   "id": "574c75ac",
   "metadata": {},
   "outputs": [],
   "source": [
    "sns.boxplot(x=df['Rainfall'])\n",
    "plt.title('Boxplot of Rainfall')\n",
    "plt.show()\n"
   ]
  },
  {
   "cell_type": "code",
   "execution_count": null,
   "id": "085d15b0",
   "metadata": {},
   "outputs": [],
   "source": [
    "missing_values = df.isnull().sum()\n",
    "print(missing_values)\n"
   ]
  },
  {
   "cell_type": "code",
   "execution_count": null,
   "id": "d8bfcf82",
   "metadata": {
    "scrolled": false
   },
   "outputs": [],
   "source": [
    "categorical_cols = df.select_dtypes(include=['object']).columns\n",
    "for col in categorical_cols:\n",
    "    sns.countplot(x=col, data=df)\n",
    "    plt.title(f'Distribution of {col}')\n",
    "    plt.show()\n"
   ]
  },
  {
   "cell_type": "code",
   "execution_count": null,
   "id": "cca0020c",
   "metadata": {},
   "outputs": [],
   "source": [
    "from scipy.stats import zscore\n",
    "\n",
    "# Calculate Z-scores\n",
    "z_scores = zscore(df[['Rainfall', 'WindSpeed9am', 'Humidity3pm', 'Pressure9am']])\n",
    "df_no_outliers = df[(z_scores < 3).all(axis=1)]\n"
   ]
  },
  {
   "cell_type": "code",
   "execution_count": null,
   "id": "7012f235",
   "metadata": {},
   "outputs": [],
   "source": [
    "from sklearn.decomposition import PCA\n",
    "\n",
    "# Assuming X is your feature matrix\n",
    "pca = PCA(n_components=2)\n",
    "principal_components = pca.fit_transform(X)\n"
   ]
  },
  {
   "cell_type": "code",
   "execution_count": null,
   "id": "9bfc6457",
   "metadata": {},
   "outputs": [],
   "source": [
    "from sklearn.cluster import KMeans\n",
    "\n",
    "# Assuming X is your feature matrix\n",
    "kmeans = KMeans(n_clusters=3)\n",
    "df['Cluster'] = kmeans.fit_predict(X)\n",
    "\n"
   ]
  },
  {
   "cell_type": "code",
   "execution_count": null,
   "id": "7ce402b7",
   "metadata": {
    "scrolled": false
   },
   "outputs": [],
   "source": [
    "# Assuming 'Cluster' is the column containing cluster labels\n",
    "clusters = df['Cluster'].unique()\n",
    "\n",
    "# Iterate through clusters and print data for each cluster\n",
    "for cluster in clusters:\n",
    "    cluster_data = df[df['Cluster'] == cluster]\n",
    "    \n",
    "    # Print or analyze data for the specific cluster\n",
    "    print(f\"Cluster {cluster} Data:\")\n",
    "    print(cluster_data)\n",
    "    print(\"\\n\")\n"
   ]
  },
  {
   "cell_type": "code",
   "execution_count": null,
   "id": "acfbdabb",
   "metadata": {},
   "outputs": [],
   "source": [
    "import seaborn as sns\n",
    "import matplotlib.pyplot as plt\n",
    "\n",
    "# Assuming 'Cluster' is the column containing cluster labels\n",
    "sns.boxplot(x='Cluster', y='Rainfall', data=df)\n",
    "plt.title('Behavioral Pattern by Cluster')\n",
    "plt.show()\n"
   ]
  },
  {
   "cell_type": "code",
   "execution_count": null,
   "id": "65cef376",
   "metadata": {},
   "outputs": [],
   "source": [
    "import numpy as np\n",
    "\n",
    "# Replace negative values with NaN\n",
    "df['Rainfall'] = np.where(df['Rainfall'] < 0, np.nan, df['Rainfall'])\n",
    "print(df['Rainfall'].describe())\n",
    "df['Rainfall'].fillna(df['Rainfall'].mean(), inplace=True)\n",
    "import matplotlib.pyplot as plt\n",
    "\n",
    "plt.hist(df['Rainfall'], bins=20)\n",
    "plt.xlabel('Rainfall')\n",
    "plt.ylabel('Frequency')\n",
    "plt.show()\n"
   ]
  },
  {
   "cell_type": "code",
   "execution_count": null,
   "id": "5fd21edb",
   "metadata": {
    "scrolled": false
   },
   "outputs": [],
   "source": [
    "from sklearn.model_selection import train_test_split\n",
    "from sklearn.linear_model import LinearRegression\n",
    "from sklearn.metrics import mean_squared_error\n",
    "import numpy as np\n",
    "\n",
    "df = df.fillna(df.mean())\n",
    "\n",
    "# Assuming df is your DataFrame and 'Rainfall' is the target variable\n",
    "X = df[['WindSpeed9am', 'Humidity3pm', 'Pressure9am', 'Pressure3pm']]\n",
    "y = df['Rainfall']\n",
    "\n",
    "# Split the data into training and testing sets\n",
    "X_train, X_test, y_train, y_test = train_test_split(X, y, test_size=0.2, random_state=42)\n",
    "\n",
    "# Create and train the linear regression model\n",
    "model = LinearRegression()\n",
    "model.fit(X_train, y_train)\n",
    "\n",
    "# Make predictions on the test set\n",
    "y_pred = model.predict(X_test)\n",
    "\n",
    "# Evaluate the model\n",
    "mse = mean_squared_error(y_test, y_pred)\n",
    "print(f'Mean Squared Error: {mse}')"
   ]
  },
  {
   "cell_type": "code",
   "execution_count": null,
   "id": "8b33d952",
   "metadata": {},
   "outputs": [],
   "source": [
    "X"
   ]
  },
  {
   "cell_type": "code",
   "execution_count": null,
   "id": "d1ec08ad",
   "metadata": {},
   "outputs": [],
   "source": [
    "w=float(input(\"Enter wind speed at 9 AM:(float)\"))\n",
    "h=int(input(\"Enter wind speed at 3 PM:(int)\"))\n",
    "p_9=float(input(\"Enter pressure at 9 AM:(float)\"))\n",
    "p_3=float(input(\"Enter Pressure at 3 PM:(float)\"))\n",
    "\n",
    "inp=[[w,h,p_9,p_3]]\n",
    "res=model.predict(inp)\n",
    "print(res)"
   ]
  }
 ],
 "metadata": {
  "kernelspec": {
   "display_name": "Python 3",
   "language": "python",
   "name": "python3"
  },
  "language_info": {
   "codemirror_mode": {
    "name": "ipython",
    "version": 3
   },
   "file_extension": ".py",
   "mimetype": "text/x-python",
   "name": "python",
   "nbconvert_exporter": "python",
   "pygments_lexer": "ipython3",
   "version": "3.8.8"
  }
 },
 "nbformat": 4,
 "nbformat_minor": 5
}
